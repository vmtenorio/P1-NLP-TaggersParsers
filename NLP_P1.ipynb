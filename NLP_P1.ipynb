{
 "cells": [
  {
   "cell_type": "markdown",
   "metadata": {
    "id": "PWB58rwNUxfV"
   },
   "source": [
    "# Utils and imports"
   ]
  },
  {
   "cell_type": "code",
   "execution_count": 84,
   "metadata": {
    "colab": {
     "base_uri": "https://localhost:8080/"
    },
    "id": "1sdD8j13RHLx",
    "outputId": "aad6c011-0cdd-4c1a-94cb-9f809faabbc3"
   },
   "outputs": [],
   "source": [
    "import nltk\n",
    "import stanza\n",
    "from stanza.server import CoreNLPClient\n",
    "\n",
    "from gensim.models import Word2Vec\n",
    "\n",
    "from PYEVALB import scorer, parser\n",
    "from conll18_ud_eval import evaluate, load_conllu\n",
    "from sacremoses import MosesDetokenizer\n",
    "from stanza.utils.conll import CoNLL\n",
    "\n",
    "import numpy as np\n",
    "import keras\n",
    "from sklearn.model_selection import train_test_split\n",
    "from sklearn.preprocessing import OneHotEncoder\n",
    "import matplotlib.pyplot as plt\n",
    "import io\n",
    "import re"
   ]
  },
  {
   "cell_type": "code",
   "execution_count": 2,
   "metadata": {
    "id": "DRZtl_aufx85"
   },
   "outputs": [],
   "source": [
    "DATA_PATH = '/home/victor/Dropbox/Master/5. Métodos empíricos de procesamiento del lenguaje natural/Practicas/Practica1/PoS Tagging/'"
   ]
  },
  {
   "cell_type": "code",
   "execution_count": 3,
   "metadata": {
    "id": "gef_c3s3U0hr"
   },
   "outputs": [],
   "source": [
    "def tups_to_file(path, tuples):\n",
    "    with open(path, 'w') as f:\n",
    "        for t in tuples:\n",
    "            f.write(str(t) + '\\n')"
   ]
  },
  {
   "cell_type": "markdown",
   "metadata": {
    "id": "7jbgOVocfR56"
   },
   "source": [
    "# Ejercicio 1: Entrenamiento y etiquetación con PoS taggers"
   ]
  },
  {
   "cell_type": "markdown",
   "metadata": {
    "id": "kP4Bd59AfaiY"
   },
   "source": [
    "## Modelos pre-entrenados"
   ]
  },
  {
   "cell_type": "markdown",
   "metadata": {
    "id": "mgMrDcOfjQRj"
   },
   "source": [
    "### Inglés"
   ]
  },
  {
   "cell_type": "markdown",
   "metadata": {
    "id": "4KUi9crZi3LY"
   },
   "source": [
    "#### NLTK"
   ]
  },
  {
   "cell_type": "raw",
   "metadata": {
    "colab": {
     "base_uri": "https://localhost:8080/"
    },
    "id": "XqNCVK5aRIdi",
    "outputId": "4153f7fa-1058-42f3-9b1f-563ca7c8edb2"
   },
   "source": [
    "nltk.download('treebank')\n",
    "nltk.download('gutenberg')\n",
    "nltk.download('cess_esp')\n",
    "nltk.download('averaged_perceptron_tagger')\n",
    "nltk.download('averaged_perceptron_tagger_ru')\n",
    "nltk.download('punkt')\n",
    "nltk.download('universal_tagset')"
   ]
  },
  {
   "cell_type": "code",
   "execution_count": 4,
   "metadata": {
    "id": "TiLHTrDIoKnw"
   },
   "outputs": [],
   "source": [
    "macbeth_raw = nltk.corpus.gutenberg.raw('shakespeare-macbeth.txt')\n",
    "macbeth_words = nltk.word_tokenize(macbeth_raw)\n",
    "macbeth_sents = nltk.sent_tokenize(macbeth_raw)"
   ]
  },
  {
   "cell_type": "code",
   "execution_count": 5,
   "metadata": {
    "id": "yvM43HSAkEwP"
   },
   "outputs": [],
   "source": [
    "with open(DATA_PATH + 'ingles/INPUT.txt', 'w') as f:\n",
    "    f.write(macbeth_raw)"
   ]
  },
  {
   "cell_type": "code",
   "execution_count": 6,
   "metadata": {
    "colab": {
     "base_uri": "https://localhost:8080/"
    },
    "id": "Aml9Y0-2oEtz",
    "outputId": "ee3092d5-1275-44cb-e15a-17a5a0d384c6"
   },
   "outputs": [
    {
     "data": {
      "text/plain": [
       "22233"
      ]
     },
     "execution_count": 6,
     "metadata": {},
     "output_type": "execute_result"
    }
   ],
   "source": [
    "macbeth_tags_nltk_tup = nltk.pos_tag(macbeth_words)\n",
    "macbeth_tags_nltk = [x[1] for x in macbeth_tags_nltk_tup]\n",
    "len(macbeth_tags_nltk)"
   ]
  },
  {
   "cell_type": "code",
   "execution_count": 7,
   "metadata": {
    "id": "bMVRl67ffvk3"
   },
   "outputs": [],
   "source": [
    "tups_to_file(DATA_PATH + 'ingles/OUTPUT_NLTK.txt', macbeth_tags_nltk_tup)"
   ]
  },
  {
   "cell_type": "markdown",
   "metadata": {
    "id": "WgxBK5oli5MC"
   },
   "source": [
    "#### Stanza"
   ]
  },
  {
   "cell_type": "raw",
   "metadata": {
    "colab": {
     "base_uri": "https://localhost:8080/"
    },
    "id": "7dOfownwi65K",
    "outputId": "7d8a5a7c-6800-48b7-a1c0-cd301cf46815"
   },
   "source": [
    "stanza.download()"
   ]
  },
  {
   "cell_type": "code",
   "execution_count": 8,
   "metadata": {
    "id": "qFjFlyPQmmkg"
   },
   "outputs": [],
   "source": [
    "config = {\n",
    "    'processors': 'tokenize,pos', # Comma-separated list of processors to use     \n",
    "    'lang': 'en', # Language code for the language to build the Pipeline in\n",
    "    'use_gpu': False, # Configure it to run on GPU\n",
    "    'tokenize_pretokenized': True # Use pretokenized text as input and disable tokenization\n",
    "}"
   ]
  },
  {
   "cell_type": "code",
   "execution_count": 9,
   "metadata": {
    "colab": {
     "base_uri": "https://localhost:8080/"
    },
    "id": "ce4nYxezimSQ",
    "outputId": "580afe92-2953-4e01-8563-737e29eb73d4"
   },
   "outputs": [
    {
     "name": "stderr",
     "output_type": "stream",
     "text": [
      "2021-03-12 10:26:02 INFO: Loading these models for language: en (English):\n",
      "========================\n",
      "| Processor | Package  |\n",
      "------------------------\n",
      "| tokenize  | combined |\n",
      "| pos       | combined |\n",
      "========================\n",
      "\n",
      "2021-03-12 10:26:02 INFO: Use device: cpu\n",
      "2021-03-12 10:26:02 INFO: Loading: tokenize\n",
      "2021-03-12 10:26:02 INFO: Loading: pos\n",
      "2021-03-12 10:26:04 INFO: Done loading processors!\n"
     ]
    }
   ],
   "source": [
    "nlp_en = stanza.Pipeline(**config)\n",
    "stanza_model = nlp_en([macbeth_words])"
   ]
  },
  {
   "cell_type": "code",
   "execution_count": 10,
   "metadata": {
    "colab": {
     "base_uri": "https://localhost:8080/"
    },
    "id": "Xjok4o17lg-Y",
    "outputId": "61b0ea47-2485-45e6-803c-cc6891976c92"
   },
   "outputs": [
    {
     "data": {
      "text/plain": [
       "22233"
      ]
     },
     "execution_count": 10,
     "metadata": {},
     "output_type": "execute_result"
    }
   ],
   "source": [
    "macbeth_stanza_tags_tup = []\n",
    "macbeth_stanza_tags = []\n",
    "for i in stanza_model.sentences:\n",
    "    for j in i.words:\n",
    "        #print(j.text)\n",
    "        macbeth_stanza_tags_tup.append((j.text, j.xpos))\n",
    "        macbeth_stanza_tags.append(j.xpos)\n",
    "len(macbeth_stanza_tags)"
   ]
  },
  {
   "cell_type": "code",
   "execution_count": 11,
   "metadata": {
    "id": "JY8MR-P8VWvF"
   },
   "outputs": [],
   "source": [
    "tups_to_file(DATA_PATH + 'ingles/OUTPUT_STANZA.txt', macbeth_stanza_tags_tup)"
   ]
  },
  {
   "cell_type": "markdown",
   "metadata": {
    "id": "M9HSq6X4jj92"
   },
   "source": [
    "#### Stanford CoreNLP"
   ]
  },
  {
   "cell_type": "raw",
   "metadata": {
    "colab": {
     "base_uri": "https://localhost:8080/"
    },
    "id": "n-sZBtSwnjt6",
    "outputId": "6c5fdd84-eeec-4f52-b48e-8f6519c1a6e8"
   },
   "source": [
    "stanza.install_corenlp()"
   ]
  },
  {
   "cell_type": "code",
   "execution_count": 12,
   "metadata": {
    "colab": {
     "base_uri": "https://localhost:8080/"
    },
    "id": "qAxRmEZJjjLM",
    "outputId": "a835bb76-a923-4527-becf-a67998fd3309"
   },
   "outputs": [
    {
     "name": "stderr",
     "output_type": "stream",
     "text": [
      "2021-03-12 10:26:19 INFO: Writing properties to tmp file: corenlp_server-f8597e2df47d41b7.props\n",
      "2021-03-12 10:26:19 INFO: Starting server with command: java -Xmx5G -cp /home/victor/stanza_corenlp/* edu.stanford.nlp.pipeline.StanfordCoreNLPServer -port 9001 -timeout 30000 -threads 5 -maxCharLength 100000 -quiet False -serverProperties corenlp_server-f8597e2df47d41b7.props -annotators tokenize,pos -preload -outputFormat serialized\n"
     ]
    }
   ],
   "source": [
    "macbeth_corenlp_tags_tup = []\n",
    "macbeth_corenlp_tags = []\n",
    "with CoreNLPClient(\n",
    "        annotators=['tokenize,pos'],\n",
    "        timeout=30000,\n",
    "        endpoint='http://localhost:9001',\n",
    "        properties={'annotators': 'tokenize,pos'}) as client:\n",
    "    # Doing in a loop to keep the same number of tokens\n",
    "    for w in macbeth_words:\n",
    "        corenlp_model = client.annotate(w)\n",
    "        token = corenlp_model.sentence[0].token[0]\n",
    "        macbeth_corenlp_tags_tup.append((token.word, token.pos))\n",
    "        macbeth_corenlp_tags.append(token.pos)"
   ]
  },
  {
   "cell_type": "code",
   "execution_count": 13,
   "metadata": {
    "id": "M3ZjC85yVc4k"
   },
   "outputs": [],
   "source": [
    "tups_to_file(DATA_PATH + 'ingles/OUTPUT_CORENLP.txt', macbeth_corenlp_tags_tup)"
   ]
  },
  {
   "cell_type": "markdown",
   "metadata": {
    "id": "m-scL77JkQcO"
   },
   "source": [
    "#### Comparison"
   ]
  },
  {
   "cell_type": "code",
   "execution_count": 14,
   "metadata": {
    "id": "4dArwczskTis"
   },
   "outputs": [],
   "source": [
    "assert len(macbeth_tags_nltk) == len(macbeth_stanza_tags) == len(macbeth_corenlp_tags) "
   ]
  },
  {
   "cell_type": "code",
   "execution_count": 15,
   "metadata": {
    "id": "78ZoDJh3uA8w"
   },
   "outputs": [],
   "source": [
    "three_coincidence = []\n",
    "nltk_stanza_comparison = []\n",
    "nltk_corenlp_comparison = []\n",
    "stanza_corenlp_comparison = []\n",
    "nltk_stanza_coin = []\n",
    "nltk_corenlp_coin = []\n",
    "stanza_corenlp_coin = []\n",
    "none_coincidence = []\n",
    "\n",
    "for i,w_nltk in enumerate(macbeth_tags_nltk):\n",
    "    w_stanza = macbeth_stanza_tags[i]\n",
    "    w_corenlp = macbeth_corenlp_tags[i]\n",
    "    #print(\"Word: {} - NLTK tag: {} - Stanza tag: {} - CoreNLP tag: {}\".format(macbeth_tags_nltk_tup[i][0], w_nltk, w_stanza, w_corenlp))\n",
    "    three_coincidence.append(w_nltk == w_stanza and w_nltk == w_corenlp)\n",
    "    nltk_stanza_comparison.append(w_nltk != w_stanza)\n",
    "    nltk_corenlp_comparison.append(w_nltk != w_corenlp)\n",
    "    stanza_corenlp_comparison.append(w_stanza != w_corenlp)\n",
    "    nltk_stanza_coin.append(w_nltk == w_stanza and w_nltk != w_corenlp)\n",
    "    nltk_corenlp_coin.append(w_nltk == w_corenlp and w_nltk != w_stanza)\n",
    "    stanza_corenlp_coin.append(w_stanza == w_corenlp and w_stanza != w_nltk)\n",
    "    none_coincidence.append((w_nltk != w_stanza and w_nltk != w_corenlp) and w_stanza != w_corenlp)"
   ]
  },
  {
   "cell_type": "code",
   "execution_count": 16,
   "metadata": {
    "colab": {
     "base_uri": "https://localhost:8080/"
    },
    "id": "LdWKk44tuYHN",
    "outputId": "e5d75d6c-438c-4f82-ac6a-6c6c02fd084a"
   },
   "outputs": [
    {
     "name": "stdout",
     "output_type": "stream",
     "text": [
      "Total number of words:  22233\n",
      "Times when the 3 of them are the same:  15240\n",
      "NLTK != Stanza:  4497\n",
      "NLTK != CoreNLP:  5447\n",
      "NLTK == Stanza != CoreNLP 2496\n",
      "NLTK != Stanza == CoreNLP 1737\n",
      "NLTK == CoreNLP != Stanza 1546\n",
      "NLTK != Stanza != CoreNLP 1214\n"
     ]
    }
   ],
   "source": [
    "print(\"Total number of words: \", len(macbeth_words))\n",
    "print(\"Times when the 3 of them are the same: \", sum(three_coincidence))\n",
    "print(\"NLTK != Stanza: \", sum(nltk_stanza_comparison))\n",
    "print(\"NLTK != CoreNLP: \", sum(nltk_corenlp_comparison))\n",
    "print(\"NLTK == Stanza != CoreNLP\", sum(nltk_stanza_coin))\n",
    "print(\"NLTK != Stanza == CoreNLP\", sum(stanza_corenlp_coin))\n",
    "print(\"NLTK == CoreNLP != Stanza\", sum(nltk_corenlp_coin))\n",
    "print(\"NLTK != Stanza != CoreNLP\", sum(none_coincidence))"
   ]
  },
  {
   "cell_type": "code",
   "execution_count": 17,
   "metadata": {
    "colab": {
     "base_uri": "https://localhost:8080/"
    },
    "id": "H42760drvGPd",
    "outputId": "41c7913a-f12b-4f86-e9d5-28a5797ade1d"
   },
   "outputs": [
    {
     "data": {
      "text/plain": [
       "100.0"
      ]
     },
     "execution_count": 17,
     "metadata": {},
     "output_type": "execute_result"
    }
   ],
   "source": [
    "coincidence_pct = 100 * sum(three_coincidence) / len(macbeth_words)\n",
    "nltk_stanza_pct = 100 * sum(nltk_stanza_coin) / len(macbeth_words)\n",
    "nltk_corenlp_pct = 100 * sum(nltk_corenlp_coin) / len(macbeth_words)\n",
    "stanza_corenlp_pct = 100 * sum(stanza_corenlp_coin) / len(macbeth_words)\n",
    "no_coincidence_pct = 100 * sum(none_coincidence) / len(macbeth_words)\n",
    "\n",
    "sizes = [coincidence_pct,nltk_stanza_pct,nltk_corenlp_pct,stanza_corenlp_pct,no_coincidence_pct]\n",
    "sum(sizes)"
   ]
  },
  {
   "cell_type": "code",
   "execution_count": 18,
   "metadata": {
    "colab": {
     "base_uri": "https://localhost:8080/",
     "height": 575
    },
    "id": "yGBC7fZ6viCn",
    "outputId": "50724722-cf7e-49fc-f9dc-d02464b2dda5"
   },
   "outputs": [
    {
     "data": {
      "image/png": "[encoded data removed]",
      "text/plain": [
       "<Figure size 720x720 with 1 Axes>"
      ]
     },
     "metadata": {},
     "output_type": "display_data"
    }
   ],
   "source": [
    "plt.figure(figsize=(10,10))\n",
    "\n",
    "plt.pie(sizes, autopct='%1.1f%%', textprops={'fontsize':16, 'color':'w', 'fontweight':'bold'}, shadow=True, explode=[0.05]*5)\n",
    "plt.legend([\"Coinciden los 3 etiquetadores\",\n",
    "            \"Coinciden NLTK y Stanza pero no CoreNLP\",\n",
    "            \"Coinciden NLTK y CoreNLP pero no Stanza\",\n",
    "            \"Coinciden CoreNLP y Stanza pero no NLTK\",\n",
    "            \"No coincide ninguno\"])\n",
    "\n",
    "plt.show()"
   ]
  },
  {
   "cell_type": "markdown",
   "metadata": {
    "id": "ZJOAb23CjVO6"
   },
   "source": [
    "### Español"
   ]
  },
  {
   "cell_type": "code",
   "execution_count": 19,
   "metadata": {
    "id": "JbqFwOhecYYz"
   },
   "outputs": [],
   "source": [
    "# File obtained from http://gutenberg.org/ebooks/49836\n",
    "# http://gutenberg.org/files/49836/49836-0.txt\n",
    "with open(DATA_PATH + 'español/INPUT.txt', 'r') as f:\n",
    "    niebla_raw = f.read()\n",
    "    niebla_tokens = nltk.word_tokenize(niebla_raw)"
   ]
  },
  {
   "cell_type": "markdown",
   "metadata": {
    "id": "bPSQp8qDkMyL"
   },
   "source": [
    "#### Stanza"
   ]
  },
  {
   "cell_type": "raw",
   "metadata": {
    "colab": {
     "base_uri": "https://localhost:8080/"
    },
    "id": "rRGidZT3kO1B",
    "outputId": "d3199f67-4c62-44bc-dae8-d88e90d0d371"
   },
   "source": [
    "stanza.download('es')"
   ]
  },
  {
   "cell_type": "code",
   "execution_count": 20,
   "metadata": {
    "colab": {
     "base_uri": "https://localhost:8080/"
    },
    "id": "356vjGORkWSm",
    "outputId": "a5e57ed1-5d70-42c1-c72d-0567a2e12a7d"
   },
   "outputs": [
    {
     "name": "stderr",
     "output_type": "stream",
     "text": [
      "2021-03-12 10:28:20 WARNING: Language es package default expects mwt, which has been added\n",
      "2021-03-12 10:28:20 INFO: Loading these models for language: es (Spanish):\n",
      "=======================\n",
      "| Processor | Package |\n",
      "-----------------------\n",
      "| tokenize  | ancora  |\n",
      "| mwt       | ancora  |\n",
      "| pos       | ancora  |\n",
      "=======================\n",
      "\n",
      "2021-03-12 10:28:20 INFO: Use device: cpu\n",
      "2021-03-12 10:28:20 INFO: Loading: tokenize\n",
      "2021-03-12 10:28:20 INFO: Loading: mwt\n",
      "2021-03-12 10:28:20 INFO: Loading: pos\n",
      "2021-03-12 10:28:22 INFO: Done loading processors!\n"
     ]
    }
   ],
   "source": [
    "config['lang'] = 'es'\n",
    "config['tokenize_pretokenized'] = True\n",
    "nlp = stanza.Pipeline(**config)"
   ]
  },
  {
   "cell_type": "code",
   "execution_count": 21,
   "metadata": {
    "id": "lC9B5zZWlOY7"
   },
   "outputs": [],
   "source": [
    "stanza_model = nlp([niebla_tokens])"
   ]
  },
  {
   "cell_type": "code",
   "execution_count": 22,
   "metadata": {
    "colab": {
     "base_uri": "https://localhost:8080/"
    },
    "id": "tsljAAovsAyz",
    "outputId": "0db71dbc-bf3e-46a4-d027-4bb3342325c7"
   },
   "outputs": [
    {
     "data": {
      "text/plain": [
       "72277"
      ]
     },
     "execution_count": 22,
     "metadata": {},
     "output_type": "execute_result"
    }
   ],
   "source": [
    "niebla_stanza_tags_tup = []\n",
    "niebla_stanza_tags = []\n",
    "for i in stanza_model.sentences:\n",
    "    for j in i.words:\n",
    "        #print(j.text)\n",
    "        niebla_stanza_tags_tup.append((j.text, j.xpos))\n",
    "        niebla_stanza_tags.append(j.xpos)\n",
    "len(niebla_stanza_tags)"
   ]
  },
  {
   "cell_type": "code",
   "execution_count": 23,
   "metadata": {
    "id": "4oksqduVVsgn"
   },
   "outputs": [],
   "source": [
    "tups_to_file(DATA_PATH + 'español/OUTPUT.txt', niebla_stanza_tags_tup)\n",
    "tups_to_file(DATA_PATH + 'español/OUTPUT_STANZA.txt', niebla_stanza_tags_tup)"
   ]
  },
  {
   "cell_type": "markdown",
   "metadata": {
    "id": "3esiIHKgigqH"
   },
   "source": [
    "#### Stanford CoreNLP"
   ]
  },
  {
   "cell_type": "raw",
   "metadata": {
    "colab": {
     "base_uri": "https://localhost:8080/"
    },
    "id": "gfcXk6nNJbAo",
    "outputId": "ee068e17-d96a-4dec-82cd-c8a750b5dc1f"
   },
   "source": [
    "stanza.download_corenlp_models(model='spanish', version='4.2.0')"
   ]
  },
  {
   "cell_type": "code",
   "execution_count": 24,
   "metadata": {
    "colab": {
     "base_uri": "https://localhost:8080/"
    },
    "id": "nYtOxBKMsvGY",
    "outputId": "18ae1e1a-77d7-4413-d30e-98dcd4f94b85"
   },
   "outputs": [
    {
     "name": "stderr",
     "output_type": "stream",
     "text": [
      "2021-03-12 10:29:17 INFO: Using CoreNLP default properties for: spanish.  Make sure to have spanish models jar (available for download here: https://stanfordnlp.github.io/CoreNLP/) in CLASSPATH\n",
      "2021-03-12 10:29:17 INFO: Starting server with command: java -Xmx5G -cp /home/victor/stanza_corenlp/* edu.stanford.nlp.pipeline.StanfordCoreNLPServer -port 9001 -timeout 30000 -threads 5 -maxCharLength 100000 -quiet False -serverProperties spanish -annotators openie -preload -outputFormat serialized\n"
     ]
    }
   ],
   "source": [
    "niebla_corenlp_tags_tup = []\n",
    "niebla_corenlp_tags = []\n",
    "\n",
    "with CoreNLPClient(\n",
    "        annotators=['openie'],\n",
    "        timeout=30000,\n",
    "        endpoint='http://localhost:9001',\n",
    "        properties='spanish') as client:\n",
    "    for w in niebla_tokens:\n",
    "        corenlp_model = client.annotate(w)\n",
    "        token = corenlp_model.sentence[0].token[0]\n",
    "        niebla_corenlp_tags_tup.append((token.word, token.pos))\n",
    "        niebla_corenlp_tags.append(token.pos)"
   ]
  },
  {
   "cell_type": "code",
   "execution_count": 26,
   "metadata": {
    "colab": {
     "base_uri": "https://localhost:8080/",
     "height": 243
    },
    "id": "EW2IBRWR-gOT",
    "outputId": "2f53d655-a13b-4d9c-e189-2f2debbb8cef"
   },
   "outputs": [
    {
     "name": "stdout",
     "output_type": "stream",
     "text": [
      " Percentage same 0.8413464864341353\n"
     ]
    }
   ],
   "source": [
    "try:\n",
    "    assert len(niebla_stanza_tags) == len(niebla_corenlp_tags)\n",
    "    print(\" Percentage same\", sum([niebla_stanza_tags[i] == niebla_corenlp_tags[i] for i in range(len(niebla_stanza_tags))]) / len(niebla_stanza_tags))\n",
    "except AssertionError:\n",
    "    print(\"Not same number of tokens!\")"
   ]
  },
  {
   "cell_type": "code",
   "execution_count": 30,
   "metadata": {
    "id": "8rrTFb59V1kN"
   },
   "outputs": [],
   "source": [
    "tups_to_file(DATA_PATH + 'español/OUTPUT_CORENLP.txt', niebla_corenlp_tags_tup)"
   ]
  },
  {
   "cell_type": "markdown",
   "metadata": {
    "id": "P72dyzUfCLpj"
   },
   "source": [
    "### Ruso"
   ]
  },
  {
   "cell_type": "code",
   "execution_count": 31,
   "metadata": {
    "id": "lrRvRklY_OO-"
   },
   "outputs": [],
   "source": [
    "# File obtained from http://gutenberg.org/ebooks/30774\n",
    "# http://gutenberg.org/files/30774/30774-0.txt\n",
    "with open(DATA_PATH + 'ruso/INPUT.txt', 'r') as f:\n",
    "    russian_tokens = nltk.word_tokenize(f.read())"
   ]
  },
  {
   "cell_type": "code",
   "execution_count": 32,
   "metadata": {
    "id": "IXYMWOP-BERh"
   },
   "outputs": [],
   "source": [
    "russian_tags = nltk.pos_tag(russian_tokens, lang='rus')"
   ]
  },
  {
   "cell_type": "code",
   "execution_count": 33,
   "metadata": {
    "id": "Ec9PUsuzZRoa"
   },
   "outputs": [],
   "source": [
    "tups_to_file(DATA_PATH + 'ruso/OUTPUT.txt', russian_tags)"
   ]
  },
  {
   "cell_type": "markdown",
   "metadata": {
    "id": "R_bjG5aRUZy7"
   },
   "source": [
    "#### Finlandés"
   ]
  },
  {
   "cell_type": "code",
   "execution_count": 34,
   "metadata": {
    "id": "91geK7ENUhw3"
   },
   "outputs": [],
   "source": [
    "# File obtained from http://gutenberg.org/ebooks/13580\n",
    "# http://gutenberg.org/cache/epub/13580/pg13580.txt\n",
    "with open(DATA_PATH + 'finlandes/INPUT.txt', 'r') as f:\n",
    "    finnish_raw = f.read()"
   ]
  },
  {
   "cell_type": "raw",
   "metadata": {
    "id": "JFbqX7HHTBIr"
   },
   "source": [
    "stanza.download('fi')"
   ]
  },
  {
   "cell_type": "code",
   "execution_count": 35,
   "metadata": {
    "id": "zXGHasx8Ucwi"
   },
   "outputs": [
    {
     "name": "stderr",
     "output_type": "stream",
     "text": [
      "2021-03-12 10:56:40 WARNING: Language fi package default expects mwt, which has been added\n",
      "2021-03-12 10:56:40 INFO: Loading these models for language: fi (Finnish):\n",
      "=======================\n",
      "| Processor | Package |\n",
      "-----------------------\n",
      "| tokenize  | tdt     |\n",
      "| mwt       | tdt     |\n",
      "| pos       | tdt     |\n",
      "=======================\n",
      "\n",
      "2021-03-12 10:56:40 INFO: Use device: cpu\n",
      "2021-03-12 10:56:40 INFO: Loading: tokenize\n",
      "2021-03-12 10:56:42 INFO: Loading: mwt\n",
      "2021-03-12 10:56:42 INFO: Loading: pos\n",
      "2021-03-12 10:56:49 INFO: Done loading processors!\n"
     ]
    }
   ],
   "source": [
    "config['lang'] = 'fi'\n",
    "config['tokenize_pretokenized'] = False\n",
    "nlp = stanza.Pipeline(**config)\n",
    "stanza_model = nlp(finnish_raw)"
   ]
  },
  {
   "cell_type": "code",
   "execution_count": 36,
   "metadata": {
    "id": "fk3tN-TNUqhp"
   },
   "outputs": [
    {
     "data": {
      "text/plain": [
       "26374"
      ]
     },
     "execution_count": 36,
     "metadata": {},
     "output_type": "execute_result"
    }
   ],
   "source": [
    "finnish_stanza_tags_tup = []\n",
    "finnish_stanza_tags = []\n",
    "for i in stanza_model.sentences:\n",
    "    for j in i.words:\n",
    "        #print(j.text)\n",
    "        finnish_stanza_tags_tup.append((j.text, j.xpos))\n",
    "        finnish_stanza_tags.append(j.xpos)\n",
    "len(finnish_stanza_tags)"
   ]
  },
  {
   "cell_type": "code",
   "execution_count": 37,
   "metadata": {
    "id": "fqjEqTP8Z50Z"
   },
   "outputs": [],
   "source": [
    "tups_to_file(DATA_PATH + 'finlandes/OUTPUT.txt', finnish_stanza_tags_tup)"
   ]
  },
  {
   "cell_type": "markdown",
   "metadata": {
    "id": "GgLnTevoRUPH"
   },
   "source": [
    "## Entrenamiento de modelos"
   ]
  },
  {
   "cell_type": "markdown",
   "metadata": {
    "id": "QpxBdxDanrab"
   },
   "source": [
    "### Inglés"
   ]
  },
  {
   "cell_type": "markdown",
   "metadata": {
    "id": "FzYou1Oenx24"
   },
   "source": [
    "#### NLTK Taggers"
   ]
  },
  {
   "cell_type": "code",
   "execution_count": 39,
   "metadata": {
    "id": "HYivwuksaiTv"
   },
   "outputs": [],
   "source": [
    "penn_sents = nltk.corpus.treebank.tagged_sents()\n",
    "penn_sents_train, penn_sents_test = train_test_split(penn_sents, test_size=0.15)"
   ]
  },
  {
   "cell_type": "code",
   "execution_count": 40,
   "metadata": {
    "id": "VM9XLqMtp--o"
   },
   "outputs": [],
   "source": [
    "t0 = nltk.DefaultTagger('NN')\n",
    "t1 = nltk.UnigramTagger(penn_sents_train, backoff=t0)\n",
    "t2 = nltk.BigramTagger(penn_sents_train, backoff=t1)\n",
    "t3 = nltk.TrigramTagger(penn_sents_train, backoff=t2)"
   ]
  },
  {
   "cell_type": "code",
   "execution_count": 41,
   "metadata": {
    "id": "jrV3V6SUAKNi"
   },
   "outputs": [
    {
     "data": {
      "text/plain": [
       "0.8997444089456869"
      ]
     },
     "execution_count": 41,
     "metadata": {},
     "output_type": "execute_result"
    }
   ],
   "source": [
    "t3.evaluate(penn_sents_test)"
   ]
  },
  {
   "cell_type": "code",
   "execution_count": 42,
   "metadata": {
    "id": "c2NSLW45qgD5"
   },
   "outputs": [],
   "source": [
    "macbeth_trigram_predictions = t3.tag(macbeth_words)\n",
    "macbeth_trigram_tags = [x[1] for x in macbeth_trigram_predictions]"
   ]
  },
  {
   "cell_type": "code",
   "execution_count": 43,
   "metadata": {
    "id": "bk-vQLg2-pW_"
   },
   "outputs": [
    {
     "data": {
      "text/plain": [
       "0.6867269374353439"
      ]
     },
     "execution_count": 43,
     "metadata": {},
     "output_type": "execute_result"
    }
   ],
   "source": [
    "assert len(macbeth_tags_nltk) == len(macbeth_trigram_tags)\n",
    "\n",
    "coinc = [macbeth_tags_nltk[i] == macbeth_trigram_tags[i] for i in range(len(macbeth_trigram_tags))]\n",
    "\n",
    "sum(coinc) / len(macbeth_tags_nltk)"
   ]
  },
  {
   "cell_type": "code",
   "execution_count": 44,
   "metadata": {
    "id": "-8TkASr1q0sH"
   },
   "outputs": [],
   "source": [
    "tups_to_file(DATA_PATH + 'ingles/OUTPUT_TrigramTagger.txt', macbeth_trigram_predictions)"
   ]
  },
  {
   "cell_type": "markdown",
   "metadata": {
    "id": "wPLm5myutJoo"
   },
   "source": [
    "#### Neural Network tagger"
   ]
  },
  {
   "cell_type": "code",
   "execution_count": 45,
   "metadata": {
    "id": "SDemhakKtJWI"
   },
   "outputs": [],
   "source": [
    "# Penn treebank sample\n",
    "penn_sents = nltk.corpus.treebank.sents()\n",
    "penn_tagged_words = nltk.corpus.treebank.tagged_words()"
   ]
  },
  {
   "cell_type": "code",
   "execution_count": 46,
   "metadata": {
    "id": "epMsrLJvxZcO"
   },
   "outputs": [
    {
     "data": {
      "text/plain": [
       "100676"
      ]
     },
     "execution_count": 46,
     "metadata": {},
     "output_type": "execute_result"
    }
   ],
   "source": [
    "len(penn_tagged_words)"
   ]
  },
  {
   "cell_type": "code",
   "execution_count": 47,
   "metadata": {
    "id": "WdOHcahcxIIF"
   },
   "outputs": [
    {
     "data": {
      "text/plain": [
       "46"
      ]
     },
     "execution_count": 47,
     "metadata": {},
     "output_type": "execute_result"
    }
   ],
   "source": [
    "penn_tags = list(set([x[1] for x in penn_tagged_words]))\n",
    "len(penn_tags)"
   ]
  },
  {
   "cell_type": "code",
   "execution_count": 48,
   "metadata": {
    "id": "qgVK00JhuBPp"
   },
   "outputs": [],
   "source": [
    "model = Word2Vec(penn_sents, min_count=1,\n",
    "                 size=100, window=5) "
   ]
  },
  {
   "cell_type": "code",
   "execution_count": 49,
   "metadata": {
    "id": "S9kv6H43uGR9"
   },
   "outputs": [],
   "source": [
    "nn_model = keras.Sequential(\n",
    "    [\n",
    "        keras.layers.Dense(100, activation=\"relu\", name=\"layer1\"),\n",
    "        keras.layers.Dense(100, activation=\"relu\", name=\"layer2\"),\n",
    "        keras.layers.Dense(len(penn_tags), activation=\"softmax\", name=\"output\"),\n",
    "    ]\n",
    ")"
   ]
  },
  {
   "cell_type": "code",
   "execution_count": 50,
   "metadata": {
    "id": "iFkLi9OO2d_H"
   },
   "outputs": [],
   "source": [
    "nn_model.compile(loss='categorical_crossentropy',\n",
    "              optimizer='rmsprop',\n",
    "              metrics=['accuracy'])"
   ]
  },
  {
   "cell_type": "code",
   "execution_count": 51,
   "metadata": {
    "id": "rPh5n38zvXEi"
   },
   "outputs": [
    {
     "data": {
      "text/plain": [
       "(100676, 46)"
      ]
     },
     "execution_count": 51,
     "metadata": {},
     "output_type": "execute_result"
    }
   ],
   "source": [
    "x = []\n",
    "y = []\n",
    "for w in penn_tagged_words:\n",
    "    if w[0] in model.wv:\n",
    "        x.append(model.wv[w[0]])\n",
    "        y.append(penn_tags.index(w[1]))\n",
    "x = np.array(x)\n",
    "y = np.array(y)\n",
    "y = keras.utils.to_categorical(y)\n",
    "y.shape"
   ]
  },
  {
   "cell_type": "code",
   "execution_count": 52,
   "metadata": {
    "id": "kpMNSSGC2zqw"
   },
   "outputs": [],
   "source": [
    "x_train, x_test, y_train, y_test = train_test_split(x, y, test_size=0.15)"
   ]
  },
  {
   "cell_type": "code",
   "execution_count": 61,
   "metadata": {
    "collapsed": true,
    "id": "kZNDw2uUwVKl",
    "jupyter": {
     "outputs_hidden": true
    },
    "tags": []
   },
   "outputs": [
    {
     "name": "stdout",
     "output_type": "stream",
     "text": [
      "Epoch 1/50\n",
      "2675/2675 [==============================] - 5s 2ms/step - loss: 2.1507 - accuracy: 0.3425\n",
      "Epoch 2/50\n",
      "2675/2675 [==============================] - 4s 1ms/step - loss: 1.6903 - accuracy: 0.4661\n",
      "Epoch 3/50\n",
      "2675/2675 [==============================] - 4s 1ms/step - loss: 1.5576 - accuracy: 0.5053\n",
      "Epoch 4/50\n",
      "2675/2675 [==============================] - 4s 1ms/step - loss: 1.4831 - accuracy: 0.5321\n",
      "Epoch 5/50\n",
      "2675/2675 [==============================] - 4s 1ms/step - loss: 1.4359 - accuracy: 0.5509\n",
      "Epoch 6/50\n",
      "2675/2675 [==============================] - 4s 1ms/step - loss: 1.4122 - accuracy: 0.5611\n",
      "Epoch 7/50\n",
      "2675/2675 [==============================] - 4s 1ms/step - loss: 1.3930 - accuracy: 0.5663\n",
      "Epoch 8/50\n",
      "2675/2675 [==============================] - 4s 1ms/step - loss: 1.3792 - accuracy: 0.5724\n",
      "Epoch 9/50\n",
      "2675/2675 [==============================] - 4s 1ms/step - loss: 1.3750 - accuracy: 0.5747\n",
      "Epoch 10/50\n",
      "2675/2675 [==============================] - 4s 1ms/step - loss: 1.3678 - accuracy: 0.5786\n",
      "Epoch 11/50\n",
      "2675/2675 [==============================] - 4s 1ms/step - loss: 1.3610 - accuracy: 0.5820\n",
      "Epoch 12/50\n",
      "2675/2675 [==============================] - 4s 1ms/step - loss: 1.3559 - accuracy: 0.5837\n",
      "Epoch 13/50\n",
      "2675/2675 [==============================] - 4s 1ms/step - loss: 1.3521 - accuracy: 0.5856\n",
      "Epoch 14/50\n",
      "2675/2675 [==============================] - 4s 1ms/step - loss: 1.3479 - accuracy: 0.5872\n",
      "Epoch 15/50\n",
      "2675/2675 [==============================] - 4s 1ms/step - loss: 1.3455 - accuracy: 0.5877\n",
      "Epoch 16/50\n",
      "2675/2675 [==============================] - 4s 1ms/step - loss: 1.3407 - accuracy: 0.5910\n",
      "Epoch 17/50\n",
      "2675/2675 [==============================] - 4s 1ms/step - loss: 1.3347 - accuracy: 0.5916\n",
      "Epoch 18/50\n",
      "2675/2675 [==============================] - 4s 1ms/step - loss: 1.3285 - accuracy: 0.5946\n",
      "Epoch 19/50\n",
      "2675/2675 [==============================] - 3s 1ms/step - loss: 1.3275 - accuracy: 0.5946\n",
      "Epoch 20/50\n",
      "2675/2675 [==============================] - 4s 1ms/step - loss: 1.3314 - accuracy: 0.5956\n",
      "Epoch 21/50\n",
      "2675/2675 [==============================] - 4s 2ms/step - loss: 1.3250 - accuracy: 0.5970\n",
      "Epoch 22/50\n",
      "2675/2675 [==============================] - 4s 2ms/step - loss: 1.3280 - accuracy: 0.5975\n",
      "Epoch 23/50\n",
      "2675/2675 [==============================] - 4s 1ms/step - loss: 1.3248 - accuracy: 0.5970\n",
      "Epoch 24/50\n",
      "2675/2675 [==============================] - 4s 1ms/step - loss: 1.3259 - accuracy: 0.5977\n",
      "Epoch 25/50\n",
      "2675/2675 [==============================] - 4s 1ms/step - loss: 1.3218 - accuracy: 0.5994\n",
      "Epoch 26/50\n",
      "2675/2675 [==============================] - 4s 1ms/step - loss: 1.3283 - accuracy: 0.5963\n",
      "Epoch 27/50\n",
      "2675/2675 [==============================] - 4s 1ms/step - loss: 1.3229 - accuracy: 0.5996\n",
      "Epoch 28/50\n",
      "2675/2675 [==============================] - 4s 1ms/step - loss: 1.3241 - accuracy: 0.5994\n",
      "Epoch 29/50\n",
      "2675/2675 [==============================] - 4s 1ms/step - loss: 1.3212 - accuracy: 0.6004\n",
      "Epoch 30/50\n",
      "2675/2675 [==============================] - 4s 1ms/step - loss: 1.3207 - accuracy: 0.5999\n",
      "Epoch 31/50\n",
      "2675/2675 [==============================] - 4s 1ms/step - loss: 1.3180 - accuracy: 0.6000\n",
      "Epoch 32/50\n",
      "2675/2675 [==============================] - 4s 1ms/step - loss: 1.3188 - accuracy: 0.6003\n",
      "Epoch 33/50\n",
      "2675/2675 [==============================] - 4s 1ms/step - loss: 1.3249 - accuracy: 0.5999\n",
      "Epoch 34/50\n",
      "2675/2675 [==============================] - 4s 1ms/step - loss: 1.3192 - accuracy: 0.6033\n",
      "Epoch 35/50\n",
      "2675/2675 [==============================] - 5s 2ms/step - loss: 1.3220 - accuracy: 0.6024\n",
      "Epoch 36/50\n",
      "2675/2675 [==============================] - 4s 1ms/step - loss: 1.3232 - accuracy: 0.6027\n",
      "Epoch 37/50\n",
      "2675/2675 [==============================] - 4s 2ms/step - loss: 1.3172 - accuracy: 0.6032\n",
      "Epoch 38/50\n",
      "2675/2675 [==============================] - 4s 2ms/step - loss: 1.3302 - accuracy: 0.6020\n",
      "Epoch 39/50\n",
      "2675/2675 [==============================] - 4s 2ms/step - loss: 1.3279 - accuracy: 0.6016\n",
      "Epoch 40/50\n",
      "2675/2675 [==============================] - 3s 1ms/step - loss: 1.3370 - accuracy: 0.6005\n",
      "Epoch 41/50\n",
      "2675/2675 [==============================] - 3s 1ms/step - loss: 1.3301 - accuracy: 0.6023\n",
      "Epoch 42/50\n",
      "2675/2675 [==============================] - 4s 1ms/step - loss: 1.3345 - accuracy: 0.6010\n",
      "Epoch 43/50\n",
      "2675/2675 [==============================] - 4s 2ms/step - loss: 1.3377 - accuracy: 0.6000\n",
      "Epoch 44/50\n",
      "2675/2675 [==============================] - 5s 2ms/step - loss: 1.3356 - accuracy: 0.6010\n",
      "Epoch 45/50\n",
      "2675/2675 [==============================] - 5s 2ms/step - loss: 1.3301 - accuracy: 0.6022\n",
      "Epoch 46/50\n",
      "2675/2675 [==============================] - 5s 2ms/step - loss: 1.3276 - accuracy: 0.6024\n",
      "Epoch 47/50\n",
      "2675/2675 [==============================] - 5s 2ms/step - loss: 1.3377 - accuracy: 0.6023\n",
      "Epoch 48/50\n",
      "2675/2675 [==============================] - 4s 2ms/step - loss: 1.3443 - accuracy: 0.6007\n",
      "Epoch 49/50\n",
      "2675/2675 [==============================] - 5s 2ms/step - loss: 1.3449 - accuracy: 0.6014\n",
      "Epoch 50/50\n",
      "2675/2675 [==============================] - 5s 2ms/step - loss: 1.3390 - accuracy: 0.6022\n"
     ]
    },
    {
     "data": {
      "text/plain": [
       "<tensorflow.python.keras.callbacks.History at 0x7fe032d024f0>"
      ]
     },
     "execution_count": 61,
     "metadata": {},
     "output_type": "execute_result"
    }
   ],
   "source": [
    "# Uncomment if want to fit\n",
    "nn_model.fit(x_train, y_train, epochs=50, batch_size=32)"
   ]
  },
  {
   "cell_type": "code",
   "execution_count": 62,
   "metadata": {
    "id": "mJLYw8mv-QwM"
   },
   "outputs": [
    {
     "name": "stdout",
     "output_type": "stream",
     "text": [
      "472/472 [==============================] - 0s 1ms/step - loss: 1.3062 - accuracy: 0.5844\n"
     ]
    },
    {
     "data": {
      "text/plain": [
       "[1.3061985969543457, 0.5843597054481506]"
      ]
     },
     "execution_count": 62,
     "metadata": {},
     "output_type": "execute_result"
    }
   ],
   "source": [
    "nn_model.evaluate(x_test, y_test)"
   ]
  },
  {
   "cell_type": "code",
   "execution_count": 243,
   "metadata": {
    "id": "c2NSLW45qgD5"
   },
   "outputs": [],
   "source": [
    "macbeth_model = Word2Vec(macbeth_sents, min_count=1,\n",
    "                         size=100, window=5)\n",
    "\n",
    "x_macbeth = []\n",
    "for w in macbeth_words:\n",
    "    if w[0] in macbeth_model.wv:\n",
    "        x_macbeth.append(macbeth_model.wv[w[0]])\n",
    "x_macbeth = np.array(x_macbeth)"
   ]
  },
  {
   "cell_type": "code",
   "execution_count": 244,
   "metadata": {},
   "outputs": [],
   "source": [
    "yhat_macbeth = nn_model.predict(x_macbeth)"
   ]
  },
  {
   "cell_type": "code",
   "execution_count": 248,
   "metadata": {},
   "outputs": [],
   "source": [
    "macbeth_nn_tags_idx = np.argmax(yhat_macbeth, axis=1)\n",
    "macbeth_nn_tags = [penn_tags[i] for i in macbeth_nn_tags_idx]\n",
    "macbeth_nn_tags_tup = [(macbeth_words[i], penn_tags[j]) for i, j in enumerate(macbeth_nn_tags_idx)]"
   ]
  },
  {
   "cell_type": "code",
   "execution_count": 247,
   "metadata": {
    "id": "bk-vQLg2-pW_"
   },
   "outputs": [
    {
     "data": {
      "text/plain": [
       "0.00022489092789996853"
      ]
     },
     "execution_count": 247,
     "metadata": {},
     "output_type": "execute_result"
    }
   ],
   "source": [
    "assert len(macbeth_tags_nltk) == len(macbeth_nn_tags)\n",
    "\n",
    "coinc = [macbeth_tags_nltk[i] == macbeth_nn_tags[i] for i in range(len(macbeth_nn_tags))]\n",
    "\n",
    "sum(coinc) / len(macbeth_tags_nltk)"
   ]
  },
  {
   "cell_type": "code",
   "execution_count": 251,
   "metadata": {
    "id": "-8TkASr1q0sH"
   },
   "outputs": [],
   "source": [
    "tups_to_file(DATA_PATH + 'ingles/OUTPUT_NNTagger.txt', macbeth_nn_tags_tup)"
   ]
  },
  {
   "cell_type": "markdown",
   "metadata": {
    "id": "P0wUxsCEsJKb"
   },
   "source": [
    "### Español"
   ]
  },
  {
   "cell_type": "code",
   "execution_count": 63,
   "metadata": {
    "id": "J3kIu7UWsLGF"
   },
   "outputs": [],
   "source": [
    "spanish_sents = nltk.corpus.cess_esp.tagged_sents()\n",
    "spanish_sents_train, spanish_sents_test = train_test_split(spanish_sents, test_size=0.15)"
   ]
  },
  {
   "cell_type": "code",
   "execution_count": 64,
   "metadata": {
    "id": "xfZjYp6NsOKy"
   },
   "outputs": [
    {
     "data": {
      "text/plain": [
       "0.8898255913171098"
      ]
     },
     "execution_count": 64,
     "metadata": {},
     "output_type": "execute_result"
    }
   ],
   "source": [
    "t0 = nltk.DefaultTagger('ncms000')\n",
    "t1 = nltk.UnigramTagger(spanish_sents_train, backoff=t0)\n",
    "t2 = nltk.BigramTagger(spanish_sents_train, backoff=t1)\n",
    "t3 = nltk.TrigramTagger(spanish_sents_train, backoff=t2)\n",
    "t3.evaluate(spanish_sents_test)"
   ]
  },
  {
   "cell_type": "code",
   "execution_count": 65,
   "metadata": {
    "id": "kMrUjLbcsSYd"
   },
   "outputs": [],
   "source": [
    "niebla_trigram_predictions = t3.tag(niebla_tokens)\n",
    "spanish_trigram_tags = [x[1] for x in niebla_trigram_predictions]"
   ]
  },
  {
   "cell_type": "code",
   "execution_count": 66,
   "metadata": {
    "id": "RwXFnF6OFHEP"
   },
   "outputs": [
    {
     "name": "stdout",
     "output_type": "stream",
     "text": [
      "NOUN ncms000\n"
     ]
    }
   ],
   "source": [
    "print(niebla_stanza_tags[0], spanish_trigram_tags[0])"
   ]
  },
  {
   "cell_type": "code",
   "execution_count": 67,
   "metadata": {
    "id": "oSSU7Kb1FbOo"
   },
   "outputs": [
    {
     "data": {
      "text/plain": [
       "0"
      ]
     },
     "execution_count": 67,
     "metadata": {},
     "output_type": "execute_result"
    }
   ],
   "source": [
    "sum([niebla_stanza_tags[i] == spanish_trigram_tags[i] for i in range(len(niebla_stanza_tags))])"
   ]
  },
  {
   "cell_type": "code",
   "execution_count": 68,
   "metadata": {
    "id": "F35FSR7gtDQD"
   },
   "outputs": [],
   "source": [
    "tups_to_file(DATA_PATH + 'español/OUTPUT_TrigramTagger.txt', niebla_trigram_predictions)"
   ]
  },
  {
   "cell_type": "markdown",
   "metadata": {
    "id": "EZiXm7RZRXAV"
   },
   "source": [
    "# Ejercicio 2: Entrenamiento y evaluación de parsers de constituyentes"
   ]
  },
  {
   "cell_type": "code",
   "execution_count": 69,
   "metadata": {},
   "outputs": [],
   "source": [
    "evalb_scorer = scorer.Scorer()\n",
    "detok = MosesDetokenizer()"
   ]
  },
  {
   "cell_type": "markdown",
   "metadata": {
    "id": "0028lRr_gItj"
   },
   "source": [
    "## Inglés"
   ]
  },
  {
   "cell_type": "markdown",
   "metadata": {},
   "source": [
    "### NLTK"
   ]
  },
  {
   "cell_type": "code",
   "execution_count": 70,
   "metadata": {
    "id": "d2jqhlzjGqVY"
   },
   "outputs": [],
   "source": [
    "tbank_productions = set(production for sent in nltk.corpus.treebank.parsed_sents()\n",
    "                        for production in sent.productions())\n",
    "tbank_grammar = nltk.CFG(nltk.grammar.Nonterminal('S'), list(tbank_productions))"
   ]
  },
  {
   "cell_type": "code",
   "execution_count": 71,
   "metadata": {},
   "outputs": [],
   "source": [
    "g = nltk.data.load('grammars/large_grammars/alvey.fcfg')"
   ]
  },
  {
   "cell_type": "raw",
   "metadata": {
    "id": "ysAdaYmGHd99",
    "tags": []
   },
   "source": [
    "%%timeit\n",
    "rd_parser = nltk.parse.chart.ChartParser(g, trace=0)\n",
    "recalls_nltk = []\n",
    "precs_nltk = []\n",
    "accs_nltk = []\n",
    "parsed_sents = nltk.corpus.treebank.parsed_sents()\n",
    "for i, s in enumerate(nltk.corpus.treebank.sents()[:10]):\n",
    "    print(i)\n",
    "    parsed_sent = rd_parser.parse_one(s)\n",
    "    gold_sent = parser.create_from_bracket_string(parsed_sents[i].pformat())\n",
    "    parse_tree = parser.create_from_bracket_string(parsed_sent.pformat())\n",
    "    scores = evalb_scorer.score_trees(gold_sent, parse_tree)\n",
    "    recalls_nltk.append(scores.recall)\n",
    "    precs_nltk.append(scores.prec)\n",
    "    accs_nltk.append(scores.tag_accracy)"
   ]
  },
  {
   "cell_type": "code",
   "execution_count": 73,
   "metadata": {},
   "outputs": [
    {
     "data": {
      "text/plain": [
       "'(S  (NP-SBJ    (NP (NNP Pierre) (NNP Vinken))    (, ,)    (ADJP (NP (CD 61) (NNS years)) (JJ old))    (, ,))  (VP    (MD will)    (VP      (VB join)      (NP (DT the) (NN board))      (PP-CLR (IN as) (NP (DT a) (JJ nonexecutive) (NN director)))      (NP-TMP (NNP Nov.) (CD 29))))  (. .))'"
      ]
     },
     "execution_count": 73,
     "metadata": {},
     "output_type": "execute_result"
    }
   ],
   "source": [
    "s = nltk.corpus.treebank.parsed_sents()[0].pformat()\n",
    "s.replace('\\n', '')"
   ]
  },
  {
   "cell_type": "markdown",
   "metadata": {},
   "source": [
    "### CoreNLP"
   ]
  },
  {
   "cell_type": "code",
   "execution_count": 74,
   "metadata": {},
   "outputs": [],
   "source": [
    "detok = MosesDetokenizer()"
   ]
  },
  {
   "cell_type": "code",
   "execution_count": 75,
   "metadata": {
    "id": "lBaEuE8zfIud",
    "tags": []
   },
   "outputs": [
    {
     "name": "stderr",
     "output_type": "stream",
     "text": [
      "2021-03-12 11:12:07 INFO: Writing properties to tmp file: corenlp_server-21575047231c47e9.props\n",
      "2021-03-12 11:12:07 INFO: Starting server with command: java -Xmx5G -cp /home/victor/stanza_corenlp/* edu.stanford.nlp.pipeline.StanfordCoreNLPServer -port 9001 -timeout 3000001 -threads 5 -maxCharLength 100000 -quiet False -serverProperties corenlp_server-21575047231c47e9.props -annotators tokenize,ssplit,pos,parse -preload -outputFormat json\n"
     ]
    }
   ],
   "source": [
    "recalls_corenlp = []\n",
    "precs_corenlp = []\n",
    "accs_corenlp = []\n",
    "parsed_sents = nltk.corpus.treebank.parsed_sents()\n",
    "skipped_sents = 0\n",
    "sents_analyzed = 0\n",
    "with CoreNLPClient(\n",
    "        annotators=['tokenize', 'ssplit', 'pos', 'parse'],\n",
    "        output_format=\"json\",\n",
    "        timeout=3000001,\n",
    "        endpoint='http://localhost:9001') as client:\n",
    "    for i, s in enumerate(nltk.corpus.treebank.sents()):\n",
    "        sent = detok.detokenize(s)\n",
    "        corenlp_model = client.annotate(sent)\n",
    "        gold_sent = parser.create_from_bracket_string(parsed_sents[i].pformat())\n",
    "        parse_tree = parser.create_from_bracket_string(corenlp_model['sentences'][0]['parse'])\n",
    "        try:\n",
    "            scores = evalb_scorer.score_trees(gold_sent, parse_tree)\n",
    "        except:\n",
    "            skipped_sents += 1\n",
    "            continue\n",
    "        recalls_corenlp.append(scores.recall)\n",
    "        precs_corenlp.append(scores.prec)\n",
    "        accs_corenlp.append(scores.tag_accracy)\n",
    "        sents_analyzed += 1\n",
    "        if sents_analyzed == 100:\n",
    "            break"
   ]
  },
  {
   "cell_type": "code",
   "execution_count": 78,
   "metadata": {},
   "outputs": [
    {
     "data": {
      "text/plain": [
       "0.9376130475355123"
      ]
     },
     "execution_count": 78,
     "metadata": {},
     "output_type": "execute_result"
    }
   ],
   "source": [
    "print(\"Results of the parsing by CoreNLP\")\n",
    "np.mean(accs_corenlp)"
   ]
  },
  {
   "cell_type": "markdown",
   "metadata": {},
   "source": [
    "## Español"
   ]
  },
  {
   "cell_type": "code",
   "execution_count": 81,
   "metadata": {},
   "outputs": [
    {
     "name": "stderr",
     "output_type": "stream",
     "text": [
      "2021-03-12 11:25:26 INFO: Using CoreNLP default properties for: spanish.  Make sure to have spanish models jar (available for download here: https://stanfordnlp.github.io/CoreNLP/) in CLASSPATH\n",
      "2021-03-12 11:25:26 INFO: Starting server with command: java -Xmx5G -cp /home/victor/stanza_corenlp/* edu.stanford.nlp.pipeline.StanfordCoreNLPServer -port 9001 -timeout 3000001 -threads 5 -maxCharLength 100000 -quiet False -serverProperties spanish -annotators tokenize,ssplit,pos,parse -preload -outputFormat json\n"
     ]
    }
   ],
   "source": [
    "recalls_corenlp = []\n",
    "precs_corenlp = []\n",
    "accs_corenlp = []\n",
    "parsed_sents = nltk.corpus.cess_esp.parsed_sents()\n",
    "skipped_sents = 0\n",
    "sents_analyzed = 0\n",
    "with CoreNLPClient(\n",
    "        annotators=['tokenize', 'ssplit', 'pos', 'parse'],\n",
    "        output_format=\"json\",\n",
    "        timeout=3000001,\n",
    "        endpoint='http://localhost:9001',\n",
    "        properties='spanish') as client:\n",
    "    for i, s in enumerate(nltk.corpus.cess_esp.sents()):\n",
    "        sent = detok.detokenize(s)\n",
    "        corenlp_model = client.annotate(sent)\n",
    "        # Adequating parsing sent\n",
    "        parsed_s = re.sub('grup\\.nom\\.[a-z]*', 'grup.nom', parsed_sents[i].pformat())\n",
    "        parsed_s = re.sub('s\\.a\\.[a-z]*', 's.a', parsed_s)\n",
    "        parsed_s = re.sub('grup\\.a\\.[a-z]*', 'grup.a', parsed_s)\n",
    "        parsed_s = re.sub('espec\\.[a-z]*', 'espec', parsed_s)\n",
    "        parsed_s = re.sub('conj\\.[a-z]*', 'conj', parsed_s)\n",
    "        parsed_s = re.sub('{\\(Fe|\\(Fc|\\(Fp}', '(PUNCT', parsed_s)\n",
    "        gold_sent = parser.create_from_bracket_string(parsed_s)\n",
    "        parse_tree = parser.create_from_bracket_string(corenlp_model['sentences'][0]['parse'])\n",
    "        try:\n",
    "            scores = evalb_scorer.score_trees(gold_sent, parse_tree)\n",
    "        except:\n",
    "            skipped_sents += 1\n",
    "            continue\n",
    "        recalls_corenlp.append(scores.recall)\n",
    "        precs_corenlp.append(scores.prec)\n",
    "        accs_corenlp.append(scores.tag_accracy)\n",
    "        sents_analyzed += 1\n",
    "        if skipped_sents == 1000:\n",
    "            print(\"Skipped with \" + str(sents_analyzed))\n",
    "            break\n",
    "        if sents_analyzed == 100:\n",
    "            break"
   ]
  },
  {
   "cell_type": "markdown",
   "metadata": {
    "id": "WFWC9pobRsaR"
   },
   "source": [
    "# Ejercicio 3: Entrenamiento y evaluación de parsers de dependencias"
   ]
  },
  {
   "cell_type": "markdown",
   "metadata": {},
   "source": [
    "## Inglés"
   ]
  },
  {
   "cell_type": "code",
   "execution_count": 82,
   "metadata": {},
   "outputs": [],
   "source": [
    "gold_conll_en = \"\"\n",
    "for s in nltk.corpus.dependency_treebank.parsed_sents()[:200]:\n",
    "    gold_conll_en += s.to_conll(10) + '\\r\\n'"
   ]
  },
  {
   "cell_type": "markdown",
   "metadata": {},
   "source": [
    "### Stanza"
   ]
  },
  {
   "cell_type": "code",
   "execution_count": 85,
   "metadata": {
    "tags": []
   },
   "outputs": [
    {
     "name": "stderr",
     "output_type": "stream",
     "text": [
      "2021-03-12 11:29:38 WARNING: Can not find mwt: default from official model list. Ignoring it.\n",
      "2021-03-12 11:29:38 INFO: Loading these models for language: en (English):\n",
      "========================\n",
      "| Processor | Package  |\n",
      "------------------------\n",
      "| tokenize  | combined |\n",
      "| pos       | combined |\n",
      "| lemma     | combined |\n",
      "| depparse  | combined |\n",
      "========================\n",
      "\n",
      "2021-03-12 11:29:38 INFO: Use device: cpu\n",
      "2021-03-12 11:29:38 INFO: Loading: tokenize\n",
      "2021-03-12 11:29:38 INFO: Loading: pos\n",
      "2021-03-12 11:29:39 INFO: Loading: lemma\n",
      "2021-03-12 11:29:39 INFO: Loading: depparse\n",
      "2021-03-12 11:29:39 INFO: Done loading processors!\n"
     ]
    }
   ],
   "source": [
    "nlp = stanza.Pipeline(processors='tokenize,mwt,pos,lemma,depparse')\n",
    "stanza_conll_en = \"\"\n",
    "for s in nltk.corpus.dependency_treebank.sents()[:200]:\n",
    "    sent = detok.detokenize(s)\n",
    "    doc = nlp(sent)\n",
    "    for s in CoNLL.convert_dict(doc.to_dict()):\n",
    "        for w in s:\n",
    "            for i, content in enumerate(w):\n",
    "                stanza_conll_en += content + '\\t'\n",
    "            stanza_conll_en = stanza_conll_en[:-1] + '\\r\\n'\n",
    "        stanza_conll_en += '\\r\\n'"
   ]
  },
  {
   "cell_type": "code",
   "execution_count": 90,
   "metadata": {},
   "outputs": [],
   "source": [
    "f_gold_en = io.StringIO(gold_conll_en)\n",
    "f_stanza_en = io.StringIO(stanza_conll_en)\n",
    "\n",
    "gold_en_eval = load_conllu(f_gold_en)\n",
    "stanza_en_eval = load_conllu(f_stanza_en)\n",
    "\n",
    "stanza_en_evaluation = evaluate(gold_en_eval, stanza_en_eval)"
   ]
  },
  {
   "cell_type": "code",
   "execution_count": 91,
   "metadata": {
    "tags": []
   },
   "outputs": [
    {
     "name": "stdout",
     "output_type": "stream",
     "text": [
      "Results for Dependency Treebank dataset using Stanza Dependency Parser\n",
      "======================================================================\n",
      "\n",
      "Metric     | Precision |    Recall |  F1 Score | AligndAcc\n",
      "-----------+-----------+-----------+-----------+-----------\n",
      "Tokens     |     96.64 |     98.16 |     97.40 |\n",
      "Sentences  |     88.26 |     94.00 |     91.04 |\n",
      "Words      |     96.64 |     98.16 |     97.40 |\n",
      "UPOS       |      0.00 |      0.00 |      0.00 |      0.00\n",
      "XPOS       |     92.20 |     93.64 |     92.92 |     95.40\n",
      "UFeats     |     30.34 |     30.82 |     30.58 |     31.40\n",
      "AllTags    |      0.00 |      0.00 |      0.00 |      0.00\n",
      "Lemmas     |     76.41 |     77.61 |     77.00 |     79.06\n",
      "UAS        |     42.20 |     42.86 |     42.53 |     43.66\n",
      "LAS        |      0.00 |      0.00 |      0.00 |      0.00\n",
      "CLAS       |      0.00 |      0.00 |      0.00 |      0.00\n",
      "MLAS       |      0.00 |      0.00 |      0.00 |      0.00\n",
      "BLEX       |      0.00 |      0.00 |      0.00 |      0.00\n"
     ]
    }
   ],
   "source": [
    "print(\"Results for Dependency Treebank dataset using Stanza Dependency Parser\")\n",
    "print(\"======================================================================\")\n",
    "print(\"\")\n",
    "print(\"Metric     | Precision |    Recall |  F1 Score | AligndAcc\")\n",
    "print(\"-----------+-----------+-----------+-----------+-----------\")\n",
    "for metric in[\"Tokens\", \"Sentences\", \"Words\", \"UPOS\", \"XPOS\", \"UFeats\", \"AllTags\", \"Lemmas\", \"UAS\", \"LAS\", \"CLAS\", \"MLAS\", \"BLEX\"]:\n",
    "    print(\"{:11}|{:10.2f} |{:10.2f} |{:10.2f} |{}\".format(\n",
    "        metric,\n",
    "        100 * stanza_en_evaluation[metric].precision,\n",
    "        100 * stanza_en_evaluation[metric].recall,\n",
    "        100 * stanza_en_evaluation[metric].f1,\n",
    "        \"{:10.2f}\".format(100 * stanza_en_evaluation[metric].aligned_accuracy) if stanza_en_evaluation[metric].aligned_accuracy is not None else \"\"\n",
    "    ))"
   ]
  },
  {
   "cell_type": "markdown",
   "metadata": {},
   "source": [
    "### CoreNLP"
   ]
  },
  {
   "cell_type": "code",
   "execution_count": 169,
   "metadata": {
    "id": "APdspGU6Caap"
   },
   "outputs": [
    {
     "name": "stderr",
     "output_type": "stream",
     "text": [
      "2021-03-12 12:08:47 INFO: Writing properties to tmp file: corenlp_server-ca3c9fb6661a44f9.props\n",
      "2021-03-12 12:08:47 INFO: Starting server with command: java -Xmx5G -cp /home/victor/stanza_corenlp/* edu.stanford.nlp.pipeline.StanfordCoreNLPServer -port 9001 -timeout 3000001 -threads 5 -maxCharLength 100000 -quiet False -serverProperties corenlp_server-ca3c9fb6661a44f9.props -annotators tokenize,ssplit,pos,parse,depparse -preload -outputFormat conllu\n"
     ]
    }
   ],
   "source": [
    "corenlp_conll_en = \"\"\n",
    "with CoreNLPClient(\n",
    "        annotators=['tokenize', 'ssplit', 'pos', 'parse', 'depparse'],\n",
    "        output_format=\"conllu\",\n",
    "        timeout=3000001,\n",
    "        endpoint='http://localhost:9001') as client:\n",
    "    for s in nltk.corpus.dependency_treebank.sents()[:200]:\n",
    "        sent = detok.detokenize(s)\n",
    "        corenlp_model = client.annotate(sent)\n",
    "        corenlp_conll_en += corenlp_model# + '\\r\\n'"
   ]
  },
  {
   "cell_type": "code",
   "execution_count": 170,
   "metadata": {},
   "outputs": [],
   "source": [
    "f_corenlp_en = io.StringIO(corenlp_conll_en.replace(\"Corp.\", \"Corp\").replace(\"Conn.\", \"Conn\").replace(\"Â\", \"\").replace(\"Ltd.\", \"Ltd\"))\n",
    "corenlp_en_eval = load_conllu(f_corenlp_en)\n",
    "\n",
    "f_gold_en = io.StringIO(gold_conll_en.replace(\"Corp.\", \"Corp\").replace(\"Conn.\", \"Conn\").replace(\"Ltd.\", \"Ltd\"))\n",
    "gold_en_eval = load_conllu(f_gold_en)\n",
    "corenlp_en_evaluation = evaluate(gold_en_eval, corenlp_en_eval)"
   ]
  },
  {
   "cell_type": "code",
   "execution_count": 171,
   "metadata": {
    "tags": []
   },
   "outputs": [
    {
     "name": "stdout",
     "output_type": "stream",
     "text": [
      "Results for Dependency Treebank dataset using CoreNLP Dependency Parser\n",
      "=======================================================================\n",
      "\n",
      "Metric     | Precision |    Recall |  F1 Score | AligndAcc\n",
      "-----------+-----------+-----------+-----------+-----------\n",
      "Tokens     |     96.87 |     98.89 |     97.87 |\n",
      "Sentences  |    100.00 |    100.00 |    100.00 |\n",
      "Words      |     96.87 |     98.89 |     97.87 |\n",
      "UPOS       |      0.00 |      0.00 |      0.00 |      0.00\n",
      "XPOS       |     93.24 |     95.19 |     94.21 |     96.26\n",
      "UFeats     |     96.87 |     98.89 |     97.87 |    100.00\n",
      "AllTags    |      0.00 |      0.00 |      0.00 |      0.00\n",
      "Lemmas     |      0.00 |      0.00 |      0.00 |      0.00\n",
      "UAS        |     43.83 |     44.74 |     44.28 |     45.24\n",
      "LAS        |      0.00 |      0.00 |      0.00 |      0.00\n",
      "CLAS       |      0.00 |      0.00 |      0.00 |      0.00\n",
      "MLAS       |      0.00 |      0.00 |      0.00 |      0.00\n",
      "BLEX       |      0.00 |      0.00 |      0.00 |      0.00\n"
     ]
    }
   ],
   "source": [
    "print(\"Results for Dependency Treebank dataset using CoreNLP Dependency Parser\")\n",
    "print(\"=======================================================================\")\n",
    "print(\"\")\n",
    "print(\"Metric     | Precision |    Recall |  F1 Score | AligndAcc\")\n",
    "print(\"-----------+-----------+-----------+-----------+-----------\")\n",
    "for metric in[\"Tokens\", \"Sentences\", \"Words\", \"UPOS\", \"XPOS\", \"UFeats\", \"AllTags\", \"Lemmas\", \"UAS\", \"LAS\", \"CLAS\", \"MLAS\", \"BLEX\"]:\n",
    "    print(\"{:11}|{:10.2f} |{:10.2f} |{:10.2f} |{}\".format(\n",
    "        metric,\n",
    "        100 * corenlp_en_evaluation[metric].precision,\n",
    "        100 * corenlp_en_evaluation[metric].recall,\n",
    "        100 * corenlp_en_evaluation[metric].f1,\n",
    "        \"{:10.2f}\".format(100 * corenlp_en_evaluation[metric].aligned_accuracy) if corenlp_en_evaluation[metric].aligned_accuracy is not None else \"\"\n",
    "    ))"
   ]
  },
  {
   "cell_type": "markdown",
   "metadata": {},
   "source": [
    "## Español"
   ]
  },
  {
   "cell_type": "code",
   "execution_count": 172,
   "metadata": {},
   "outputs": [],
   "source": [
    "def conll_text_reader(file):\n",
    "    result = []\n",
    "    sentence = []\n",
    "    for line in file.readlines():\n",
    "        if line == \"\\n\":\n",
    "            result.append(sentence)\n",
    "            sentence = []\n",
    "            continue\n",
    "        if line.startswith('#'):\n",
    "            continue\n",
    "        toks = line.split('\\t')\n",
    "        if '-' not in toks[0]:\n",
    "            sentence.append(toks[1])\n",
    "    return result"
   ]
  },
  {
   "cell_type": "code",
   "execution_count": 173,
   "metadata": {},
   "outputs": [],
   "source": [
    "spanish_dep_file = 'dependency/UD_Spanish-AnCora-master/es_ancora-ud-test.conllu'"
   ]
  },
  {
   "cell_type": "code",
   "execution_count": 174,
   "metadata": {},
   "outputs": [
    {
     "data": {
      "text/plain": [
       "1721"
      ]
     },
     "execution_count": 174,
     "metadata": {},
     "output_type": "execute_result"
    }
   ],
   "source": [
    "with open(spanish_dep_file, 'r') as ancora_f:\n",
    "    ancora_text = conll_text_reader(ancora_f)\n",
    "len(ancora_text)"
   ]
  },
  {
   "cell_type": "markdown",
   "metadata": {},
   "source": [
    "### Stanza"
   ]
  },
  {
   "cell_type": "code",
   "execution_count": 175,
   "metadata": {
    "tags": []
   },
   "outputs": [
    {
     "name": "stderr",
     "output_type": "stream",
     "text": [
      "2021-03-12 12:09:51 INFO: Loading these models for language: es (Spanish):\n",
      "=======================\n",
      "| Processor | Package |\n",
      "-----------------------\n",
      "| tokenize  | ancora  |\n",
      "| mwt       | ancora  |\n",
      "| pos       | ancora  |\n",
      "| lemma     | ancora  |\n",
      "| depparse  | ancora  |\n",
      "=======================\n",
      "\n",
      "2021-03-12 12:09:51 INFO: Use device: cpu\n",
      "2021-03-12 12:09:51 INFO: Loading: tokenize\n",
      "2021-03-12 12:09:51 INFO: Loading: mwt\n",
      "2021-03-12 12:09:51 INFO: Loading: pos\n",
      "2021-03-12 12:09:52 INFO: Loading: lemma\n",
      "2021-03-12 12:09:53 INFO: Loading: depparse\n",
      "2021-03-12 12:09:54 INFO: Done loading processors!\n"
     ]
    }
   ],
   "source": [
    "nlp = stanza.Pipeline(processors='tokenize,mwt,pos,lemma,depparse', tokenize_pretokenized=True, lang='es')\n",
    "doc = nlp(ancora_text)\n",
    "stanza_conll_es = \"\"\n",
    "for s in CoNLL.convert_dict(doc.to_dict()):\n",
    "    for w in s:\n",
    "        for i, content in enumerate(w):\n",
    "            stanza_conll_es += content + '\\t'\n",
    "        stanza_conll_es = stanza_conll_es[:-1] + '\\r\\n'\n",
    "    stanza_conll_es += '\\r\\n'"
   ]
  },
  {
   "cell_type": "code",
   "execution_count": 181,
   "metadata": {},
   "outputs": [],
   "source": [
    "with open(spanish_dep_file, 'r') as ancora_f:\n",
    "    ancora_eval = load_conllu(ancora_f)\n",
    "\n",
    "f_stanza_es = io.StringIO(stanza_conll_es)\n",
    "stanza_es_eval = load_conllu(f_stanza_es)\n",
    "\n",
    "stanza_es_evaluation = evaluate(ancora_eval, stanza_es_eval, turn_ascii=True)"
   ]
  },
  {
   "cell_type": "code",
   "execution_count": 182,
   "metadata": {
    "tags": []
   },
   "outputs": [
    {
     "name": "stdout",
     "output_type": "stream",
     "text": [
      "Results for AnCora dataset using Stanza Dependency Parser\n",
      "=========================================================\n",
      "\n",
      "Metric     | Precision |    Recall |  F1 Score | AligndAcc\n",
      "-----------+-----------+-----------+-----------+-----------\n",
      "Tokens     |     99.30 |     99.65 |     99.47 |\n",
      "Sentences  |    100.00 |    100.00 |    100.00 |\n",
      "Words      |    100.00 |    100.00 |    100.00 |\n",
      "UPOS       |     98.88 |     98.88 |     98.88 |     98.88\n",
      "XPOS       |     98.77 |     98.77 |     98.77 |     98.77\n",
      "UFeats     |     98.49 |     98.49 |     98.49 |     98.49\n",
      "AllTags    |     97.91 |     97.91 |     97.91 |     97.91\n",
      "Lemmas     |     99.20 |     99.20 |     99.20 |     99.20\n",
      "UAS        |     92.56 |     92.56 |     92.56 |     92.56\n",
      "LAS        |     90.34 |     90.34 |     90.34 |     90.34\n",
      "CLAS       |     86.43 |     86.16 |     86.29 |     86.16\n",
      "MLAS       |     84.17 |     83.92 |     84.05 |     83.92\n",
      "BLEX       |     85.56 |     85.30 |     85.43 |     85.30\n"
     ]
    }
   ],
   "source": [
    "print(\"Results for AnCora dataset using Stanza Dependency Parser\")\n",
    "print(\"=========================================================\")\n",
    "print(\"\")\n",
    "print(\"Metric     | Precision |    Recall |  F1 Score | AligndAcc\")\n",
    "print(\"-----------+-----------+-----------+-----------+-----------\")\n",
    "for metric in[\"Tokens\", \"Sentences\", \"Words\", \"UPOS\", \"XPOS\", \"UFeats\", \"AllTags\", \"Lemmas\", \"UAS\", \"LAS\", \"CLAS\", \"MLAS\", \"BLEX\"]:\n",
    "    print(\"{:11}|{:10.2f} |{:10.2f} |{:10.2f} |{}\".format(\n",
    "        metric,\n",
    "        100 * stanza_es_evaluation[metric].precision,\n",
    "        100 * stanza_es_evaluation[metric].recall,\n",
    "        100 * stanza_es_evaluation[metric].f1,\n",
    "        \"{:10.2f}\".format(100 * stanza_es_evaluation[metric].aligned_accuracy) if stanza_es_evaluation[metric].aligned_accuracy is not None else \"\"\n",
    "    ))"
   ]
  },
  {
   "cell_type": "markdown",
   "metadata": {},
   "source": [
    "### CoreNLP"
   ]
  },
  {
   "cell_type": "code",
   "execution_count": 213,
   "metadata": {
    "id": "APdspGU6Caap"
   },
   "outputs": [
    {
     "name": "stderr",
     "output_type": "stream",
     "text": [
      "2021-03-12 12:30:46 INFO: Using CoreNLP default properties for: spanish.  Make sure to have spanish models jar (available for download here: https://stanfordnlp.github.io/CoreNLP/) in CLASSPATH\n",
      "2021-03-12 12:30:46 INFO: Starting server with command: java -Xmx5G -cp /home/victor/stanza_corenlp/* edu.stanford.nlp.pipeline.StanfordCoreNLPServer -port 9001 -timeout 3000001 -threads 5 -maxCharLength 100000 -quiet False -serverProperties spanish -annotators tokenize,ssplit,pos,parse,depparse -preload -outputFormat conllu\n"
     ]
    },
    {
     "name": "stdout",
     "output_type": "stream",
     "text": [
      "Tambores cercanos, en todo caso: todo un muestrario de esa percusión urbana de nuestro tiempo.\n",
      "1\tTambores\t_\t_\tNOUN\t_\t0\troot\t_\t_\n",
      "2\tcercanos\t_\t_\tADJ\t_\t1\tamod\t_\t_\n",
      "3\t,\t_\t_\tPUNCT\t_\t4\tpunct\t_\t_\n",
      "4\ten\t_\t_\tADP\t_\t1\tadvmod\t_\t_\n",
      "5\ttodo\t_\t_\tPRON\t_\t4\tfixed\t_\t_\n",
      "6\tcaso\t_\t_\tNOUN\t_\t4\tfixed\t_\t_\n",
      "7\t:\t_\t_\tPUNCT\t_\t10\tpunct\t_\t_\n",
      "8\ttodo\t_\t_\tDET\t_\t10\tdet\t_\t_\n",
      "9\tun\t_\t_\tDET\t_\t8\tdet\t_\t_\n",
      "10\tmuestrario\t_\t_\tNOUN\t_\t4\tappos\t_\t_\n",
      "11\tde\t_\t_\tADP\t_\t13\tcase\t_\t_\n",
      "12\tesa\t_\t_\tDET\t_\t13\tdet\t_\t_\n",
      "13\tpercusiÃ³n\t_\t_\tNOUN\t_\t10\tnmod\t_\t_\n",
      "14\turbana\t_\t_\tADJ\t_\t13\tamod\t_\t_\n",
      "15\tde\t_\t_\tADP\t_\t17\tcase\t_\t_\n",
      "16\tnuestro\t_\t_\tDET\t_\t17\tdet\t_\t_\n",
      "17\ttiempo\t_\t_\tNOUN\t_\t13\tnmod\t_\t_\n",
      "18\t.\t_\t_\tPUNCT\t_\t10\tpunct\t_\t_\n",
      "\n",
      "\n"
     ]
    }
   ],
   "source": [
    "corenlp_conll_es = \"\"\n",
    "with CoreNLPClient(\n",
    "        annotators=['tokenize', 'ssplit', 'pos', 'parse', 'depparse'],\n",
    "        output_format=\"conllu\",\n",
    "        timeout=3000001,\n",
    "        endpoint='http://localhost:9001',\n",
    "        properties='spanish') as client:\n",
    "    for s in ancora_text:\n",
    "        sent = detok.detokenize(s)\n",
    "        corenlp_model = client.annotate(sent)\n",
    "        corenlp_conll_es += corenlp_model# + '\\r\\n'"
   ]
  },
  {
   "cell_type": "code",
   "execution_count": 214,
   "metadata": {},
   "outputs": [],
   "source": [
    "f_corenlp_es = io.StringIO(corenlp_conll_es.replace(\"Ã³\", 'ó'))\n",
    "\n",
    "corenlp_es_eval = load_conllu(f_corenlp_es)\n",
    "\n",
    "corenlp_es_evaluation = evaluate(ancora_eval, corenlp_es_eval, check_charseq=False)"
   ]
  },
  {
   "cell_type": "code",
   "execution_count": 215,
   "metadata": {
    "tags": []
   },
   "outputs": [
    {
     "name": "stdout",
     "output_type": "stream",
     "text": [
      "Results for AnCora dataset using CoreNLP Dependency Parser\n",
      "==========================================================\n",
      "\n",
      "Metric     | Precision |    Recall |  F1 Score | AligndAcc\n",
      "-----------+-----------+-----------+-----------+-----------\n",
      "Tokens     |      4.64 |      4.67 |      4.65 |\n",
      "Sentences  |      1.47 |      1.51 |      1.49 |\n",
      "Words      |      4.67 |      4.68 |      4.68 |\n",
      "UPOS       |      0.00 |      0.00 |      0.00 |      0.00\n",
      "XPOS       |      2.81 |      2.82 |      2.82 |     60.24\n",
      "UFeats     |      2.27 |      2.27 |      2.27 |     48.50\n",
      "AllTags    |      0.00 |      0.00 |      0.00 |      0.00\n",
      "Lemmas     |      0.00 |      0.00 |      0.00 |      0.00\n",
      "UAS        |      1.65 |      1.65 |      1.65 |     35.34\n",
      "LAS        |      1.52 |      1.52 |      1.52 |     32.58\n",
      "CLAS       |      1.36 |      1.36 |      1.36 |     36.12\n",
      "MLAS       |      0.00 |      0.00 |      0.00 |      0.00\n",
      "BLEX       |      0.00 |      0.00 |      0.00 |      0.00\n"
     ]
    }
   ],
   "source": [
    "print(\"Results for AnCora dataset using CoreNLP Dependency Parser\")\n",
    "print(\"==========================================================\")\n",
    "print(\"\")\n",
    "print(\"Metric     | Precision |    Recall |  F1 Score | AligndAcc\")\n",
    "print(\"-----------+-----------+-----------+-----------+-----------\")\n",
    "for metric in[\"Tokens\", \"Sentences\", \"Words\", \"UPOS\", \"XPOS\", \"UFeats\", \"AllTags\", \"Lemmas\", \"UAS\", \"LAS\", \"CLAS\", \"MLAS\", \"BLEX\"]:\n",
    "    print(\"{:11}|{:10.2f} |{:10.2f} |{:10.2f} |{}\".format(\n",
    "        metric,\n",
    "        100 * corenlp_es_evaluation[metric].precision,\n",
    "        100 * corenlp_es_evaluation[metric].recall,\n",
    "        100 * corenlp_es_evaluation[metric].f1,\n",
    "        \"{:10.2f}\".format(100 * corenlp_es_evaluation[metric].aligned_accuracy) if corenlp_es_evaluation[metric].aligned_accuracy is not None else \"\"\n",
    "    ))"
   ]
  },
  {
   "cell_type": "markdown",
   "metadata": {},
   "source": [
    "## Finlandés"
   ]
  },
  {
   "cell_type": "code",
   "execution_count": 216,
   "metadata": {},
   "outputs": [],
   "source": [
    "finnish_dep_file = 'dependency/UD_Finnish-TDT-master/fi_tdt-ud-test.conllu'"
   ]
  },
  {
   "cell_type": "code",
   "execution_count": 217,
   "metadata": {},
   "outputs": [
    {
     "data": {
      "text/plain": [
       "1555"
      ]
     },
     "execution_count": 217,
     "metadata": {},
     "output_type": "execute_result"
    }
   ],
   "source": [
    "with open(finnish_dep_file, 'r') as tdt_f:\n",
    "    tdt_text = conll_text_reader(tdt_f)\n",
    "len(tdt_text)"
   ]
  },
  {
   "cell_type": "markdown",
   "metadata": {},
   "source": [
    "### Stanza"
   ]
  },
  {
   "cell_type": "code",
   "execution_count": 218,
   "metadata": {
    "tags": []
   },
   "outputs": [
    {
     "name": "stderr",
     "output_type": "stream",
     "text": [
      "2021-03-12 12:33:51 INFO: Loading these models for language: fi (Finnish):\n",
      "=======================\n",
      "| Processor | Package |\n",
      "-----------------------\n",
      "| tokenize  | tdt     |\n",
      "| mwt       | tdt     |\n",
      "| pos       | tdt     |\n",
      "| lemma     | tdt     |\n",
      "| depparse  | tdt     |\n",
      "=======================\n",
      "\n",
      "2021-03-12 12:33:51 INFO: Use device: cpu\n",
      "2021-03-12 12:33:51 INFO: Loading: tokenize\n",
      "2021-03-12 12:33:51 INFO: Loading: mwt\n",
      "2021-03-12 12:33:52 INFO: Loading: pos\n",
      "2021-03-12 12:33:55 INFO: Loading: lemma\n",
      "2021-03-12 12:33:55 INFO: Loading: depparse\n",
      "2021-03-12 12:34:00 INFO: Done loading processors!\n"
     ]
    }
   ],
   "source": [
    "nlp = stanza.Pipeline(processors='tokenize,mwt,pos,lemma,depparse', tokenize_pretokenized=True, lang='fi')\n",
    "doc = nlp(tdt_text)\n",
    "stanza_conll_fi = \"\"\n",
    "for s in CoNLL.convert_dict(doc.to_dict()):\n",
    "    for w in s:\n",
    "        for i, content in enumerate(w):\n",
    "            stanza_conll_fi += content + '\\t'\n",
    "        stanza_conll_fi = stanza_conll_fi[:-1] + '\\r\\n'\n",
    "    stanza_conll_fi += '\\r\\n'"
   ]
  },
  {
   "cell_type": "code",
   "execution_count": 219,
   "metadata": {},
   "outputs": [],
   "source": [
    "with open(finnish_dep_file, 'r') as tdt_f:\n",
    "    tdt_eval = load_conllu(tdt_f)\n",
    "\n",
    "f_stanza_fi = io.StringIO(stanza_conll_fi)\n",
    "stanza_fi_eval = load_conllu(f_stanza_fi)\n",
    "\n",
    "stanza_fi_evaluation = evaluate(tdt_eval, stanza_fi_eval, check_charseq=False)"
   ]
  },
  {
   "cell_type": "code",
   "execution_count": 220,
   "metadata": {
    "tags": []
   },
   "outputs": [
    {
     "name": "stdout",
     "output_type": "stream",
     "text": [
      "Results for TDT dataset using Stanza Dependency Parser\n",
      "======================================================\n",
      "\n",
      "Metric     | Precision |    Recall |  F1 Score | AligndAcc\n",
      "-----------+-----------+-----------+-----------+-----------\n",
      "Tokens     |      3.48 |      3.49 |      3.49 |\n",
      "Sentences  |      2.38 |      2.38 |      2.38 |\n",
      "Words      |      3.49 |      3.49 |      3.49 |\n",
      "UPOS       |      2.47 |      2.47 |      2.47 |     70.79\n",
      "XPOS       |      2.54 |      2.54 |      2.54 |     72.83\n",
      "UFeats     |      2.37 |      2.37 |      2.37 |     67.80\n",
      "AllTags    |      2.29 |      2.30 |      2.30 |     65.76\n",
      "Lemmas     |      2.10 |      2.10 |      2.10 |     60.19\n",
      "UAS        |      1.78 |      1.78 |      1.78 |     50.95\n",
      "LAS        |      1.74 |      1.74 |      1.74 |     49.86\n",
      "CLAS       |      1.65 |      1.65 |      1.65 |     51.71\n",
      "MLAS       |      1.46 |      1.46 |      1.46 |     45.73\n",
      "BLEX       |      1.58 |      1.58 |      1.58 |     49.36\n"
     ]
    }
   ],
   "source": [
    "print(\"Results for TDT dataset using Stanza Dependency Parser\")\n",
    "print(\"======================================================\")\n",
    "print(\"\")\n",
    "print(\"Metric     | Precision |    Recall |  F1 Score | AligndAcc\")\n",
    "print(\"-----------+-----------+-----------+-----------+-----------\")\n",
    "for metric in[\"Tokens\", \"Sentences\", \"Words\", \"UPOS\", \"XPOS\", \"UFeats\", \"AllTags\", \"Lemmas\", \"UAS\", \"LAS\", \"CLAS\", \"MLAS\", \"BLEX\"]:\n",
    "    print(\"{:11}|{:10.2f} |{:10.2f} |{:10.2f} |{}\".format(\n",
    "        metric,\n",
    "        100 * stanza_fi_evaluation[metric].precision,\n",
    "        100 * stanza_fi_evaluation[metric].recall,\n",
    "        100 * stanza_fi_evaluation[metric].f1,\n",
    "        \"{:10.2f}\".format(100 * stanza_fi_evaluation[metric].aligned_accuracy) if stanza_fi_evaluation[metric].aligned_accuracy is not None else \"\"\n",
    "    ))"
   ]
  },
  {
   "cell_type": "markdown",
   "metadata": {},
   "source": [
    "## Chinese"
   ]
  },
  {
   "cell_type": "code",
   "execution_count": 222,
   "metadata": {},
   "outputs": [],
   "source": [
    "chinese_dep_parse = 'dependency/UD_Chinese-GSDSimp-master/zh_gsdsimp-ud-test.conllu'"
   ]
  },
  {
   "cell_type": "code",
   "execution_count": 223,
   "metadata": {},
   "outputs": [],
   "source": [
    "with open(chinese_dep_parse, 'r') as gsdsimp_f:\n",
    "    gsdsimp_text = conll_text_reader(gsdsimp_f)"
   ]
  },
  {
   "cell_type": "markdown",
   "metadata": {},
   "source": [
    "### Stanza"
   ]
  },
  {
   "cell_type": "code",
   "execution_count": 225,
   "metadata": {
    "tags": []
   },
   "outputs": [
    {
     "name": "stderr",
     "output_type": "stream",
     "text": [
      "2021-03-12 12:46:17 INFO: \"zh\" is an alias for \"zh-hans\"\n",
      "2021-03-12 12:46:17 INFO: Loading these models for language: zh-hans (Simplified_Chinese):\n",
      "=======================\n",
      "| Processor | Package |\n",
      "-----------------------\n",
      "| tokenize  | gsdsimp |\n",
      "| pos       | gsdsimp |\n",
      "| lemma     | gsdsimp |\n",
      "| depparse  | gsdsimp |\n",
      "=======================\n",
      "\n",
      "2021-03-12 12:46:17 INFO: Use device: cpu\n",
      "2021-03-12 12:46:17 INFO: Loading: tokenize\n",
      "2021-03-12 12:46:17 INFO: Loading: pos\n",
      "2021-03-12 12:46:17 INFO: Loading: lemma\n",
      "2021-03-12 12:46:17 INFO: Loading: depparse\n",
      "2021-03-12 12:46:18 INFO: Done loading processors!\n"
     ]
    }
   ],
   "source": [
    "nlp = stanza.Pipeline(processors='tokenize,pos,lemma,depparse', tokenize_pretokenized=True, lang='zh')\n",
    "doc = nlp(gsdsimp_text)\n",
    "stanza_conll_zh = \"\"\n",
    "for s in CoNLL.convert_dict(doc.to_dict()):\n",
    "    for w in s:\n",
    "        for i, content in enumerate(w):\n",
    "            stanza_conll_zh += content + '\\t'\n",
    "        stanza_conll_zh = stanza_conll_zh[:-1] + '\\r\\n'\n",
    "    stanza_conll_zh += '\\r\\n'"
   ]
  },
  {
   "cell_type": "code",
   "execution_count": 226,
   "metadata": {},
   "outputs": [],
   "source": [
    "with open(chinese_dep_parse, 'r') as gsdsimp_f:\n",
    "    gsdsimp_eval = load_conllu(gsdsimp_f)\n",
    "\n",
    "f_stanza_zh = io.StringIO(stanza_conll_zh)\n",
    "stanza_zh_eval = load_conllu(f_stanza_zh)\n",
    "\n",
    "stanza_zh_evaluation = evaluate(gsdsimp_eval, stanza_zh_eval)"
   ]
  },
  {
   "cell_type": "code",
   "execution_count": 230,
   "metadata": {
    "tags": []
   },
   "outputs": [
    {
     "name": "stdout",
     "output_type": "stream",
     "text": [
      "Results for GSDSimp dataset using Stanza Dependency Parser\n",
      "==========================================================\n",
      "\n",
      "Metric     | Precision |    Recall |  F1 Score | AligndAcc\n",
      "-----------+-----------+-----------+-----------+-----------\n",
      "Tokens     |    100.00 |    100.00 |    100.00 |\n",
      "Sentences  |    100.00 |    100.00 |    100.00 |\n",
      "Words      |    100.00 |    100.00 |    100.00 |\n",
      "UPOS       |     95.34 |     95.34 |     95.34 |     95.34\n",
      "XPOS       |     95.12 |     95.12 |     95.12 |     95.12\n",
      "UFeats     |     99.18 |     99.18 |     99.18 |     99.18\n",
      "AllTags    |     94.33 |     94.33 |     94.33 |     94.33\n",
      "Lemmas     |    100.00 |    100.00 |    100.00 |    100.00\n",
      "UAS        |     83.43 |     83.43 |     83.43 |     83.43\n",
      "LAS        |     79.50 |     79.50 |     79.50 |     79.50\n",
      "CLAS       |     78.05 |     78.15 |     78.10 |     78.15\n",
      "MLAS       |     73.35 |     73.45 |     73.40 |     73.45\n",
      "BLEX       |     78.05 |     78.15 |     78.10 |     78.15\n"
     ]
    }
   ],
   "source": [
    "print(\"Results for GSDSimp dataset using Stanza Dependency Parser\")\n",
    "print(\"==========================================================\")\n",
    "print(\"\")\n",
    "print(\"Metric     | Precision |    Recall |  F1 Score | AligndAcc\")\n",
    "print(\"-----------+-----------+-----------+-----------+-----------\")\n",
    "for metric in[\"Tokens\", \"Sentences\", \"Words\", \"UPOS\", \"XPOS\", \"UFeats\", \"AllTags\", \"Lemmas\", \"UAS\", \"LAS\", \"CLAS\", \"MLAS\", \"BLEX\"]:\n",
    "    print(\"{:11}|{:10.2f} |{:10.2f} |{:10.2f} |{}\".format(\n",
    "        metric,\n",
    "        100 * stanza_zh_evaluation[metric].precision,\n",
    "        100 * stanza_zh_evaluation[metric].recall,\n",
    "        100 * stanza_zh_evaluation[metric].f1,\n",
    "        \"{:10.2f}\".format(100 * stanza_zh_evaluation[metric].aligned_accuracy) if stanza_zh_evaluation[metric].aligned_accuracy is not None else \"\"\n",
    "    ))"
   ]
  },
  {
   "cell_type": "code",
   "execution_count": null,
   "metadata": {},
   "outputs": [],
   "source": []
  }
 ],
 "metadata": {
  "accelerator": "GPU",
  "colab": {
   "collapsed_sections": [
    "M9HSq6X4jj92",
    "m-scL77JkQcO"
   ],
   "name": "NLP-P1.ipynb",
   "provenance": [],
   "toc_visible": true
  },
  "kernelspec": {
   "display_name": "Python 3",
   "language": "python",
   "name": "python3"
  },
  "language_info": {
   "codemirror_mode": {
    "name": "ipython",
    "version": 3
   },
   "file_extension": ".py",
   "mimetype": "text/x-python",
   "name": "python",
   "nbconvert_exporter": "python",
   "pygments_lexer": "ipython3",
   "version": "3.8.5"
  },
  "toc-showtags": false
 },
 "nbformat": 4,
 "nbformat_minor": 4
}
